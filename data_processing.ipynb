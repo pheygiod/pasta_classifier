{
 "cells": [
  {
   "cell_type": "markdown",
   "id": "802638fc-3eab-46ed-a577-e6f418a1085b",
   "metadata": {},
   "source": [
    "## Processing the Data"
   ]
  },
  {
   "cell_type": "code",
   "execution_count": 49,
   "id": "2c524812-bf35-4b5e-843d-b37d12f85396",
   "metadata": {},
   "outputs": [],
   "source": [
    "import pandas as pd\n",
    "import numpy as np\n",
    "from tqdm.auto import tqdm\n",
    "import torch\n",
    "from PIL import Image\n",
    "import torchvision.transforms as transforms\n",
    "from pathlib import Path\n",
    "import datasets\n",
    "import shutil"
   ]
  },
  {
   "cell_type": "code",
   "execution_count": 3,
   "id": "f3f9cfb2-808e-42f9-af7c-fb5aef97bc37",
   "metadata": {},
   "outputs": [],
   "source": [
    "# Turning images into tensors \n",
    "def convert_img_path_into_tensor(img_path, tensor_path):\n",
    "    img = Image.open(img_path)\n",
    "    transform = transforms.Compose([transforms.PILToTensor()])\n",
    "    img_tensor = transform(img)\n",
    "    torch.save(img_tensor, tensor_path)"
   ]
  },
  {
   "cell_type": "code",
   "execution_count": 77,
   "id": "251dc025-83d3-42f5-8410-cbcc47d02271",
   "metadata": {},
   "outputs": [],
   "source": [
    "# Creating a dictionary of classes\n",
    "classes_dict = {\n",
    "   'conchiglioni raw pasta': 0,\n",
    "   'farfalle raw pasta': 1, \n",
    "   'fettuccine raw pasta': 2,\n",
    "   'fusilli raw pasta': 3,\n",
    "   'gnocchi raw pasta': 4,\n",
    "   'lasagne raw pasta': 5,\n",
    "   'linguine raw pasta': 6,\n",
    "   'orecchiette raw pasta': 7,\n",
    "   'penne raw pasta': 8,\n",
    "   'rigatoni raw pasta': 9,\n",
    "   'spaghetti raw pasta': 10, \n",
    "   'tagliatelle raw pasta': 11\n",
    "}"
   ]
  },
  {
   "cell_type": "code",
   "execution_count": 78,
   "id": "3e4b301e-8b8f-407b-8b80-2ca389f52651",
   "metadata": {},
   "outputs": [
    {
     "data": {
      "application/vnd.jupyter.widget-view+json": {
       "model_id": "1456d3bc94db406486d0ab1f45a25679",
       "version_major": 2,
       "version_minor": 0
      },
      "text/plain": [
       "0it [00:00, ?it/s]"
      ]
     },
     "metadata": {},
     "output_type": "display_data"
    },
    {
     "data": {
      "application/vnd.jupyter.widget-view+json": {
       "model_id": "f5d1f72fd9244ae6afa42c77bca75de4",
       "version_major": 2,
       "version_minor": 0
      },
      "text/plain": [
       "0it [00:00, ?it/s]"
      ]
     },
     "metadata": {},
     "output_type": "display_data"
    },
    {
     "data": {
      "application/vnd.jupyter.widget-view+json": {
       "model_id": "8eda446220984247afcbeaec3093802c",
       "version_major": 2,
       "version_minor": 0
      },
      "text/plain": [
       "0it [00:00, ?it/s]"
      ]
     },
     "metadata": {},
     "output_type": "display_data"
    },
    {
     "data": {
      "application/vnd.jupyter.widget-view+json": {
       "model_id": "e1823f1e6bd64f3b8a2ef8498152eee1",
       "version_major": 2,
       "version_minor": 0
      },
      "text/plain": [
       "0it [00:00, ?it/s]"
      ]
     },
     "metadata": {},
     "output_type": "display_data"
    },
    {
     "data": {
      "application/vnd.jupyter.widget-view+json": {
       "model_id": "4e868e2da8c646c09cb3d85475bbcbb5",
       "version_major": 2,
       "version_minor": 0
      },
      "text/plain": [
       "0it [00:00, ?it/s]"
      ]
     },
     "metadata": {},
     "output_type": "display_data"
    },
    {
     "data": {
      "application/vnd.jupyter.widget-view+json": {
       "model_id": "df968334c0554fb789470e1bc12e6c9d",
       "version_major": 2,
       "version_minor": 0
      },
      "text/plain": [
       "0it [00:00, ?it/s]"
      ]
     },
     "metadata": {},
     "output_type": "display_data"
    },
    {
     "data": {
      "application/vnd.jupyter.widget-view+json": {
       "model_id": "3e73efd529b146389e92fa701a906139",
       "version_major": 2,
       "version_minor": 0
      },
      "text/plain": [
       "0it [00:00, ?it/s]"
      ]
     },
     "metadata": {},
     "output_type": "display_data"
    },
    {
     "data": {
      "application/vnd.jupyter.widget-view+json": {
       "model_id": "f51e4c719e2d453a906c0b1a18ace8b1",
       "version_major": 2,
       "version_minor": 0
      },
      "text/plain": [
       "0it [00:00, ?it/s]"
      ]
     },
     "metadata": {},
     "output_type": "display_data"
    },
    {
     "data": {
      "application/vnd.jupyter.widget-view+json": {
       "model_id": "fc3385358437470d92a6d5bce28b028b",
       "version_major": 2,
       "version_minor": 0
      },
      "text/plain": [
       "0it [00:00, ?it/s]"
      ]
     },
     "metadata": {},
     "output_type": "display_data"
    },
    {
     "data": {
      "application/vnd.jupyter.widget-view+json": {
       "model_id": "da77fd4f89eb4872b0cb4a79dbb4f8dc",
       "version_major": 2,
       "version_minor": 0
      },
      "text/plain": [
       "0it [00:00, ?it/s]"
      ]
     },
     "metadata": {},
     "output_type": "display_data"
    },
    {
     "data": {
      "application/vnd.jupyter.widget-view+json": {
       "model_id": "5623818c58ea47c7a11da71801324444",
       "version_major": 2,
       "version_minor": 0
      },
      "text/plain": [
       "0it [00:00, ?it/s]"
      ]
     },
     "metadata": {},
     "output_type": "display_data"
    },
    {
     "data": {
      "application/vnd.jupyter.widget-view+json": {
       "model_id": "a4c5fe447bb447e5a67f0644cf828b5a",
       "version_major": 2,
       "version_minor": 0
      },
      "text/plain": [
       "0it [00:00, ?it/s]"
      ]
     },
     "metadata": {},
     "output_type": "display_data"
    }
   ],
   "source": [
    "# Applying tensor transformation function to all images \n",
    "main_dir = Path('simple_images/')\n",
    "\n",
    "for child_dir in main_dir.iterdir():\n",
    "    if (child_dir / '.ipynb_checkpoints').is_dir():\n",
    "        shutil.rmtree(child_dir / '.ipynb_checkpoints')\n",
    "    tensor_path = Path('tensor') / child_dir.parts[-1] \n",
    "    tensor_path.mkdir(parents=True)\n",
    "    \n",
    "    for img in tqdm(child_dir.iterdir()):\n",
    "        convert_img_path_into_tensor(img, tensor_path / img.parts[-1].replace('.jpg', '.pt'))"
   ]
  },
  {
   "cell_type": "code",
   "execution_count": 79,
   "id": "f141ee61-2847-4774-b0ec-07b24dda13c6",
   "metadata": {},
   "outputs": [],
   "source": [
    "# Creating two empty lists\n",
    "list_of_tensors = []\n",
    "list_of_labels = [] "
   ]
  },
  {
   "cell_type": "code",
   "execution_count": 80,
   "id": "b0cfe6e5-7270-4153-b0b8-e6ff6d597b87",
   "metadata": {},
   "outputs": [],
   "source": [
    "# Loading the tensors \n",
    "for path in Path('tensor').iterdir():\n",
    "    k = path.parts[-1]\n",
    "    for p in path.iterdir():\n",
    "        tensor = torch.load(p)\n",
    "        list_of_tensors.append(tensor)\n",
    "        list_of_labels.append(classes_dict[k])"
   ]
  },
  {
   "cell_type": "code",
   "execution_count": 83,
   "id": "524d46f1-ee85-431f-a727-6b94d52b1706",
   "metadata": {},
   "outputs": [],
   "source": [
    "# Creating a dataset for tensors and labels \n",
    "dataset = datasets.Dataset.from_dict(\n",
    "    {\n",
    "        \"images\": list_of_tensors,\n",
    "        \"labels\": list_of_labels,\n",
    "    }\n",
    ")"
   ]
  },
  {
   "cell_type": "code",
   "execution_count": null,
   "id": "a0b5f8bd-722e-4435-8ac5-d00336c7e569",
   "metadata": {},
   "outputs": [],
   "source": [
    "# Saving the dataset on the laptop \n",
    "dataset.save_to_disk(\"processed_pasta_dataset\")"
   ]
  },
  {
   "cell_type": "code",
   "execution_count": 93,
   "id": "ea5b2531-6e23-4ef2-9600-4c06bc619f4c",
   "metadata": {},
   "outputs": [],
   "source": [
    "# Shuffling dataset's indices\n",
    "dataset_size = len(dataset)\n",
    "idxs = np.random.permutation(dataset_size)"
   ]
  },
  {
   "cell_type": "code",
   "execution_count": 94,
   "id": "85c119d1-3569-4376-8270-37e48e27e266",
   "metadata": {},
   "outputs": [],
   "source": [
    "# Splitting the data into train, validation, and test set\n",
    "train_idxs = idxs[:int(0.8 * len(idxs))]\n",
    "valid_idxs = idxs[int(0.8 * len(idxs)):int(0.9 * len(idxs))]\n",
    "test_idxs = idxs[int(0.9 * len(idxs)):]"
   ]
  },
  {
   "cell_type": "code",
   "execution_count": 95,
   "id": "6fdfebef-6f89-4f17-8cf1-617dbbaa3552",
   "metadata": {},
   "outputs": [],
   "source": [
    "train_dataset = dataset.select(train_idxs)\n",
    "valid_dataset = dataset.select(valid_idxs)\n",
    "test_dataset = dataset.select(test_idxs)"
   ]
  },
  {
   "cell_type": "code",
   "execution_count": 98,
   "id": "6ac5f013-c6b8-4138-99d7-e90b4a7b9505",
   "metadata": {},
   "outputs": [
    {
     "data": {
      "application/vnd.jupyter.widget-view+json": {
       "model_id": "",
       "version_major": 2,
       "version_minor": 0
      },
      "text/plain": [
       "Saving the dataset (0/1 shards):   0%|          | 0/363 [00:00<?, ? examples/s]"
      ]
     },
     "metadata": {},
     "output_type": "display_data"
    },
    {
     "data": {
      "application/vnd.jupyter.widget-view+json": {
       "model_id": "",
       "version_major": 2,
       "version_minor": 0
      },
      "text/plain": [
       "Saving the dataset (0/1 shards):   0%|          | 0/45 [00:00<?, ? examples/s]"
      ]
     },
     "metadata": {},
     "output_type": "display_data"
    },
    {
     "data": {
      "application/vnd.jupyter.widget-view+json": {
       "model_id": "",
       "version_major": 2,
       "version_minor": 0
      },
      "text/plain": [
       "Saving the dataset (0/1 shards):   0%|          | 0/46 [00:00<?, ? examples/s]"
      ]
     },
     "metadata": {},
     "output_type": "display_data"
    }
   ],
   "source": [
    "# Creating a dataset and saving it onto the laptop\n",
    "datasets.DatasetDict(\n",
    "    {\n",
    "        \"train\": train_dataset,\n",
    "        \"valid\": valid_dataset,\n",
    "        \"test\": test_dataset,\n",
    "    }\n",
    ").save_to_disk(\"split_pasta_dataset\")"
   ]
  },
  {
   "cell_type": "code",
   "execution_count": null,
   "id": "55f6a727-3b4b-4a67-8b88-e05fd252f476",
   "metadata": {},
   "outputs": [],
   "source": []
  }
 ],
 "metadata": {
  "kernelspec": {
   "display_name": "Python 3 (ipykernel)",
   "language": "python",
   "name": "python3"
  },
  "language_info": {
   "codemirror_mode": {
    "name": "ipython",
    "version": 3
   },
   "file_extension": ".py",
   "mimetype": "text/x-python",
   "name": "python",
   "nbconvert_exporter": "python",
   "pygments_lexer": "ipython3",
   "version": "3.11.5"
  }
 },
 "nbformat": 4,
 "nbformat_minor": 5
}
